{
 "cells": [
  {
   "cell_type": "code",
   "execution_count": 54,
   "metadata": {},
   "outputs": [],
   "source": [
    "import numpy as np\n",
    "import pandas as pd\n",
    "import matplotlib.pyplot as plt\n",
    "import seaborn as sns\n",
    "\n",
    "from sklearn.naive_bayes import CategoricalNB\n",
    "from sklearn.naive_bayes import BernoulliNB\n",
    "from sklearn.naive_bayes import MultinomialNB\n",
    "from sklearn.naive_bayes import GaussianNB\n",
    "\n",
    "from sklearn.model_selection import train_test_split\n",
    "from sklearn.metrics import confusion_matrix\n",
    "from sklearn.metrics import ConfusionMatrixDisplay\n",
    "from sklearn.preprocessing import OrdinalEncoder\n",
    "from sklearn.preprocessing import MinMaxScaler\n",
    "import matplotlib.pyplot as plt\n",
    "import graphviz \n",
    "from sklearn.metrics import confusion_matrix\n",
    "from sklearn.metrics import mean_squared_error, mean_absolute_error \n",
    "from sklearn.preprocessing import StandardScaler\n",
    "from sklearn.metrics import accuracy_score\n",
    "\n"
   ]
  },
  {
   "cell_type": "code",
   "execution_count": 55,
   "metadata": {},
   "outputs": [
    {
     "data": {
      "text/html": [
       "<div>\n",
       "<style scoped>\n",
       "    .dataframe tbody tr th:only-of-type {\n",
       "        vertical-align: middle;\n",
       "    }\n",
       "\n",
       "    .dataframe tbody tr th {\n",
       "        vertical-align: top;\n",
       "    }\n",
       "\n",
       "    .dataframe thead th {\n",
       "        text-align: right;\n",
       "    }\n",
       "</style>\n",
       "<table border=\"1\" class=\"dataframe\">\n",
       "  <thead>\n",
       "    <tr style=\"text-align: right;\">\n",
       "      <th></th>\n",
       "      <th>Unnamed: 0</th>\n",
       "      <th>date</th>\n",
       "      <th>value</th>\n",
       "      <th>GPRD</th>\n",
       "      <th>GPRD_ACT</th>\n",
       "      <th>GPRD_THREAT</th>\n",
       "      <th>daily_policy_index</th>\n",
       "      <th>sprtrn</th>\n",
       "      <th>spindx</th>\n",
       "      <th>oil_return</th>\n",
       "    </tr>\n",
       "  </thead>\n",
       "  <tbody>\n",
       "    <tr>\n",
       "      <th>0</th>\n",
       "      <td>0</td>\n",
       "      <td>2000-01-04</td>\n",
       "      <td>25.56</td>\n",
       "      <td>93.751915</td>\n",
       "      <td>116.829170</td>\n",
       "      <td>71.461182</td>\n",
       "      <td>109.31</td>\n",
       "      <td>-0.038345</td>\n",
       "      <td>1399.42</td>\n",
       "      <td>-0.007825</td>\n",
       "    </tr>\n",
       "    <tr>\n",
       "      <th>1</th>\n",
       "      <td>1</td>\n",
       "      <td>2000-01-05</td>\n",
       "      <td>24.65</td>\n",
       "      <td>47.565075</td>\n",
       "      <td>47.418663</td>\n",
       "      <td>56.502644</td>\n",
       "      <td>123.22</td>\n",
       "      <td>0.001922</td>\n",
       "      <td>1402.11</td>\n",
       "      <td>-0.036917</td>\n",
       "    </tr>\n",
       "    <tr>\n",
       "      <th>2</th>\n",
       "      <td>2</td>\n",
       "      <td>2000-01-06</td>\n",
       "      <td>24.79</td>\n",
       "      <td>52.012840</td>\n",
       "      <td>51.852737</td>\n",
       "      <td>59.469170</td>\n",
       "      <td>53.61</td>\n",
       "      <td>0.000956</td>\n",
       "      <td>1403.45</td>\n",
       "      <td>0.005647</td>\n",
       "    </tr>\n",
       "    <tr>\n",
       "      <th>3</th>\n",
       "      <td>3</td>\n",
       "      <td>2000-01-07</td>\n",
       "      <td>24.79</td>\n",
       "      <td>41.667515</td>\n",
       "      <td>41.539261</td>\n",
       "      <td>54.446617</td>\n",
       "      <td>42.03</td>\n",
       "      <td>0.027090</td>\n",
       "      <td>1441.47</td>\n",
       "      <td>0.000000</td>\n",
       "    </tr>\n",
       "    <tr>\n",
       "      <th>4</th>\n",
       "      <td>4</td>\n",
       "      <td>2000-01-10</td>\n",
       "      <td>24.71</td>\n",
       "      <td>65.595398</td>\n",
       "      <td>58.127548</td>\n",
       "      <td>72.726173</td>\n",
       "      <td>44.18</td>\n",
       "      <td>0.011190</td>\n",
       "      <td>1457.60</td>\n",
       "      <td>-0.003238</td>\n",
       "    </tr>\n",
       "  </tbody>\n",
       "</table>\n",
       "</div>"
      ],
      "text/plain": [
       "   Unnamed: 0        date  value       GPRD    GPRD_ACT  GPRD_THREAT  \\\n",
       "0           0  2000-01-04  25.56  93.751915  116.829170    71.461182   \n",
       "1           1  2000-01-05  24.65  47.565075   47.418663    56.502644   \n",
       "2           2  2000-01-06  24.79  52.012840   51.852737    59.469170   \n",
       "3           3  2000-01-07  24.79  41.667515   41.539261    54.446617   \n",
       "4           4  2000-01-10  24.71  65.595398   58.127548    72.726173   \n",
       "\n",
       "   daily_policy_index    sprtrn   spindx  oil_return  \n",
       "0              109.31 -0.038345  1399.42   -0.007825  \n",
       "1              123.22  0.001922  1402.11   -0.036917  \n",
       "2               53.61  0.000956  1403.45    0.005647  \n",
       "3               42.03  0.027090  1441.47    0.000000  \n",
       "4               44.18  0.011190  1457.60   -0.003238  "
      ]
     },
     "execution_count": 55,
     "metadata": {},
     "output_type": "execute_result"
    }
   ],
   "source": [
    "MyDataSet=pd.read_csv(r'D:\\YT\\YTpaper\\insiderinformedcyber\\GPU\\CSCI\\oil_prediction_final.csv')\n",
    "MyDataSet.head()"
   ]
  },
  {
   "cell_type": "code",
   "execution_count": 56,
   "metadata": {},
   "outputs": [],
   "source": [
    "MyDataSet=MyDataSet.drop(['Unnamed: 0'],axis=1)"
   ]
  },
  {
   "cell_type": "code",
   "execution_count": 57,
   "metadata": {},
   "outputs": [],
   "source": [
    "confidence_level = 0.05\n",
    "MyDataSet['VaR_5_percent'] = MyDataSet['oil_return'].rolling(window=10).quantile(confidence_level)"
   ]
  },
  {
   "cell_type": "code",
   "execution_count": 58,
   "metadata": {},
   "outputs": [],
   "source": [
    "MyDataSet['return_lag_1'] = MyDataSet['oil_return'].shift(1)\n",
    "MyDataSet['return_lag_2'] = MyDataSet['oil_return'].shift(2)\n",
    "MyDataSet['return_lag_3'] = MyDataSet['oil_return'].shift(3)"
   ]
  },
  {
   "cell_type": "code",
   "execution_count": 59,
   "metadata": {},
   "outputs": [],
   "source": [
    "MyDataSet['VaR_5_percent_lag1'] = MyDataSet['VaR_5_percent'].shift(1)\n",
    "MyDataSet['VaR_5_percent_lag2'] = MyDataSet['VaR_5_percent'].shift(2)\n",
    "MyDataSet['VaR_5_percent_lag3'] = MyDataSet['VaR_5_percent'].shift(3)"
   ]
  },
  {
   "cell_type": "code",
   "execution_count": 60,
   "metadata": {},
   "outputs": [],
   "source": [
    "MyDataSet.dropna(inplace=True)"
   ]
  },
  {
   "cell_type": "code",
   "execution_count": 8,
   "metadata": {},
   "outputs": [],
   "source": [
    "###########for gaussian and Berno\n",
    "X = MyDataSet.drop(['oil_return','date','value','spindx','GPRD','VaR_5_percent','VaR_5_percent_lag1','VaR_5_percent_lag2','VaR_5_percent_lag3'], axis= 1)\n",
    "scaler = StandardScaler()\n",
    "X=scaler.fit_transform(X)\n"
   ]
  },
  {
   "cell_type": "code",
   "execution_count": 73,
   "metadata": {},
   "outputs": [],
   "source": [
    "################for MN\n",
    "X_MN= MyDataSet.drop(['oil_return','date','value','spindx','GPRD','VaR_5_percent','VaR_5_percent_lag1','VaR_5_percent_lag2','VaR_5_percent_lag3'], axis= 1)\n",
    "scaler_MN = MinMaxScaler()\n",
    "x_scaled = scaler_MN.fit_transform(X_MN)"
   ]
  },
  {
   "cell_type": "code",
   "execution_count": 62,
   "metadata": {},
   "outputs": [],
   "source": [
    "X_var = MyDataSet.drop(['oil_return','date','value','spindx','GPRD','VaR_5_percent','return_lag_1','return_lag_2','return_lag_3'], axis= 1)\n",
    "scaler = StandardScaler()\n",
    "X_var=scaler.fit_transform(X_var)\n"
   ]
  },
  {
   "cell_type": "code",
   "execution_count": null,
   "metadata": {},
   "outputs": [],
   "source": [
    "################for MN\n",
    "X_MN_var = MyDataSet.drop(['oil_return','date','value','spindx','GPRD','VaR_5_percent','return_lag_1','return_lag_2','return_lag_3'], axis= 1)\n",
    "x_scaled_var = scaler_MN.fit_transform(X_MN_var)"
   ]
  },
  {
   "cell_type": "code",
   "execution_count": 11,
   "metadata": {},
   "outputs": [],
   "source": [
    "Y=MyDataSet['oil_return']\n",
    "Y_var=MyDataSet['VaR_5_percent']"
   ]
  },
  {
   "cell_type": "code",
   "execution_count": 12,
   "metadata": {},
   "outputs": [],
   "source": [
    "threshold = np.median(Y)\n",
    "threshold_var=np.median(Y_var)"
   ]
  },
  {
   "cell_type": "code",
   "execution_count": 13,
   "metadata": {},
   "outputs": [],
   "source": [
    "Y_binary = (Y> threshold).astype(int)\n",
    "Y_binary_var=(Y_var> threshold_var).astype(int)"
   ]
  },
  {
   "cell_type": "markdown",
   "metadata": {},
   "source": [
    "Bernoulli"
   ]
  },
  {
   "cell_type": "code",
   "execution_count": 14,
   "metadata": {},
   "outputs": [],
   "source": [
    "x_train,x_test,y_train,y_test = train_test_split(X,Y_binary,test_size =0.3)\n",
    "x_train_var,x_test_var,y_train_var,y_test_var = train_test_split(X_var,Y_binary_var,test_size =0.3)"
   ]
  },
  {
   "cell_type": "code",
   "execution_count": 15,
   "metadata": {},
   "outputs": [],
   "source": [
    "BNB = BernoulliNB()"
   ]
  },
  {
   "cell_type": "code",
   "execution_count": 16,
   "metadata": {},
   "outputs": [
    {
     "name": "stdout",
     "output_type": "stream",
     "text": [
      "BernoulliNB()\n",
      "[0 1]\n"
     ]
    }
   ],
   "source": [
    "BNB_Model = BNB.fit(x_train, y_train)\n",
    "print(BNB_Model)\n",
    "print(BNB_Model.classes_)"
   ]
  },
  {
   "cell_type": "code",
   "execution_count": 17,
   "metadata": {},
   "outputs": [
    {
     "name": "stdout",
     "output_type": "stream",
     "text": [
      "BernoulliNB()\n",
      "BernoulliNB()\n"
     ]
    }
   ],
   "source": [
    "BNB_Model_var = BNB.fit(x_train_var, y_train)\n",
    "print(BNB_Model_var)\n",
    "print(BNB_Model_var)"
   ]
  },
  {
   "cell_type": "code",
   "execution_count": 18,
   "metadata": {},
   "outputs": [
    {
     "name": "stdout",
     "output_type": "stream",
     "text": [
      "[1 1 1 ... 1 1 0]\n"
     ]
    }
   ],
   "source": [
    "## Predict the Testing Data using the model\n",
    "Predictions_B=BNB_Model.predict(x_test)\n",
    "print(Predictions_B)"
   ]
  },
  {
   "cell_type": "code",
   "execution_count": 19,
   "metadata": {},
   "outputs": [
    {
     "name": "stdout",
     "output_type": "stream",
     "text": [
      "[1 1 0 ... 0 0 0]\n"
     ]
    }
   ],
   "source": [
    "Predictions_B_var=BNB_Model_var.predict(x_test_var)\n",
    "print(Predictions_B_var)"
   ]
  },
  {
   "cell_type": "code",
   "execution_count": 20,
   "metadata": {},
   "outputs": [
    {
     "name": "stdout",
     "output_type": "stream",
     "text": [
      "[[423 504]\n",
      " [405 469]]\n"
     ]
    }
   ],
   "source": [
    "## Confusion Matrix\n",
    "CM_B = confusion_matrix(y_test, Predictions_B)\n",
    "print(CM_B)"
   ]
  },
  {
   "cell_type": "code",
   "execution_count": 21,
   "metadata": {},
   "outputs": [
    {
     "name": "stdout",
     "output_type": "stream",
     "text": [
      "[[480 407]\n",
      " [143 771]]\n"
     ]
    }
   ],
   "source": [
    "CM_B_var = confusion_matrix(y_test_var, Predictions_B_var)\n",
    "print(CM_B_var)"
   ]
  },
  {
   "cell_type": "code",
   "execution_count": 22,
   "metadata": {},
   "outputs": [
    {
     "data": {
      "text/plain": [
       "<Axes: >"
      ]
     },
     "execution_count": 22,
     "metadata": {},
     "output_type": "execute_result"
    },
    {
     "data": {
      "image/png": "[encoded data removed]",
      "text/plain": [
       "<Figure size 640x480 with 2 Axes>"
      ]
     },
     "metadata": {},
     "output_type": "display_data"
    }
   ],
   "source": [
    "sns.heatmap(CM_B, annot=True,fmt='g' , cmap='Blues')"
   ]
  },
  {
   "cell_type": "code",
   "execution_count": 23,
   "metadata": {},
   "outputs": [
    {
     "data": {
      "text/plain": [
       "<Axes: >"
      ]
     },
     "execution_count": 23,
     "metadata": {},
     "output_type": "execute_result"
    },
    {
     "data": {
      "image/png": "[encoded data removed]",
      "text/plain": [
       "<Figure size 640x480 with 2 Axes>"
      ]
     },
     "metadata": {},
     "output_type": "display_data"
    }
   ],
   "source": [
    "sns.heatmap(CM_B_var, annot=True,fmt='g' , cmap='Blues')"
   ]
  },
  {
   "cell_type": "code",
   "execution_count": 24,
   "metadata": {},
   "outputs": [
    {
     "name": "stdout",
     "output_type": "stream",
     "text": [
      "Accuracy: 0.49528039977790117\n"
     ]
    }
   ],
   "source": [
    "accuracy = accuracy_score(y_test, Predictions_B)\n",
    "print(\"Accuracy:\", accuracy)"
   ]
  },
  {
   "cell_type": "code",
   "execution_count": 25,
   "metadata": {},
   "outputs": [
    {
     "name": "stdout",
     "output_type": "stream",
     "text": [
      "Accuracy: 0.6946141032759579\n"
     ]
    }
   ],
   "source": [
    "accuracy_var = accuracy_score(y_test_var, Predictions_B_var)\n",
    "print(\"Accuracy:\", accuracy_var)"
   ]
  },
  {
   "cell_type": "markdown",
   "metadata": {},
   "source": [
    "Gaussian Naive Bayes"
   ]
  },
  {
   "cell_type": "code",
   "execution_count": 26,
   "metadata": {},
   "outputs": [],
   "source": [
    "GNB = GaussianNB()"
   ]
  },
  {
   "cell_type": "code",
   "execution_count": 27,
   "metadata": {},
   "outputs": [],
   "source": [
    "GNB_Model = GNB.fit(x_train, y_train)"
   ]
  },
  {
   "cell_type": "code",
   "execution_count": 28,
   "metadata": {},
   "outputs": [],
   "source": [
    "GNB_Model_var = GNB.fit(x_train_var, y_train_var)"
   ]
  },
  {
   "cell_type": "code",
   "execution_count": 29,
   "metadata": {},
   "outputs": [
    {
     "name": "stdout",
     "output_type": "stream",
     "text": [
      "[1 0 1 ... 1 0 0]\n"
     ]
    }
   ],
   "source": [
    "Predictions_G=GNB_Model.predict(x_test)\n",
    "print(Predictions_G)"
   ]
  },
  {
   "cell_type": "code",
   "execution_count": 30,
   "metadata": {},
   "outputs": [
    {
     "name": "stdout",
     "output_type": "stream",
     "text": [
      "[1 1 0 ... 0 0 0]\n"
     ]
    }
   ],
   "source": [
    "Predictions_G_var=GNB_Model_var.predict(x_test_var)\n",
    "print(Predictions_G_var)"
   ]
  },
  {
   "cell_type": "code",
   "execution_count": 31,
   "metadata": {},
   "outputs": [
    {
     "name": "stdout",
     "output_type": "stream",
     "text": [
      "[[366 561]\n",
      " [325 549]]\n"
     ]
    }
   ],
   "source": [
    "CM_G = confusion_matrix(y_test, Predictions_G)\n",
    "print(CM_G)"
   ]
  },
  {
   "cell_type": "code",
   "execution_count": 32,
   "metadata": {},
   "outputs": [
    {
     "name": "stdout",
     "output_type": "stream",
     "text": [
      "[[562 325]\n",
      " [ 45 869]]\n"
     ]
    }
   ],
   "source": [
    "CM_G_var = confusion_matrix(y_test_var, Predictions_G_var)\n",
    "print(CM_G_var)"
   ]
  },
  {
   "cell_type": "code",
   "execution_count": 33,
   "metadata": {},
   "outputs": [
    {
     "data": {
      "text/plain": [
       "<Axes: >"
      ]
     },
     "execution_count": 33,
     "metadata": {},
     "output_type": "execute_result"
    },
    {
     "data": {
      "image/png": "[encoded data removed]",
      "text/plain": [
       "<Figure size 640x480 with 2 Axes>"
      ]
     },
     "metadata": {},
     "output_type": "display_data"
    }
   ],
   "source": [
    "sns.heatmap(CM_G, annot=True,fmt='g' , cmap='Blues')"
   ]
  },
  {
   "cell_type": "code",
   "execution_count": 34,
   "metadata": {},
   "outputs": [
    {
     "data": {
      "text/plain": [
       "<Axes: >"
      ]
     },
     "execution_count": 34,
     "metadata": {},
     "output_type": "execute_result"
    },
    {
     "data": {
      "image/png": "[encoded data removed]",
      "text/plain": [
       "<Figure size 640x480 with 2 Axes>"
      ]
     },
     "metadata": {},
     "output_type": "display_data"
    }
   ],
   "source": [
    "sns.heatmap(CM_G_var, annot=True,fmt='g' , cmap='Blues')"
   ]
  },
  {
   "cell_type": "code",
   "execution_count": 35,
   "metadata": {},
   "outputs": [
    {
     "name": "stdout",
     "output_type": "stream",
     "text": [
      "Accuracy: 0.5080510827318157\n"
     ]
    }
   ],
   "source": [
    "accuracy = accuracy_score(y_test, Predictions_G)\n",
    "print(\"Accuracy:\", accuracy)"
   ]
  },
  {
   "cell_type": "code",
   "execution_count": 36,
   "metadata": {},
   "outputs": [
    {
     "name": "stdout",
     "output_type": "stream",
     "text": [
      "Accuracy: 0.7945585785674625\n"
     ]
    }
   ],
   "source": [
    "accuracy_var = accuracy_score(y_test_var, Predictions_G_var)\n",
    "print(\"Accuracy:\", accuracy_var)"
   ]
  },
  {
   "cell_type": "markdown",
   "metadata": {},
   "source": [
    "Multinomial Naive Bayes"
   ]
  },
  {
   "cell_type": "code",
   "execution_count": 74,
   "metadata": {},
   "outputs": [],
   "source": [
    "x_scaled_train,x_scaled_test,y_train,y_test = train_test_split(x_scaled,Y_binary,test_size =0.3)\n",
    "x_scaled_train_var,x_scaled_test_var,y_train_var,y_test_var = train_test_split(x_scaled_var,Y_binary_var,test_size =0.3)"
   ]
  },
  {
   "cell_type": "code",
   "execution_count": 75,
   "metadata": {},
   "outputs": [],
   "source": [
    "MN = MultinomialNB()"
   ]
  },
  {
   "cell_type": "code",
   "execution_count": 76,
   "metadata": {},
   "outputs": [],
   "source": [
    "MN_Model = MN.fit(x_scaled_train, y_train)"
   ]
  },
  {
   "cell_type": "code",
   "execution_count": 77,
   "metadata": {},
   "outputs": [],
   "source": [
    "MN_Model_var = MN.fit(x_scaled_train_var, y_train)"
   ]
  },
  {
   "cell_type": "code",
   "execution_count": 78,
   "metadata": {},
   "outputs": [
    {
     "name": "stdout",
     "output_type": "stream",
     "text": [
      "[0 1 1 ... 1 1 1]\n"
     ]
    }
   ],
   "source": [
    "Predictions_MN=MN_Model.predict(x_scaled_test)\n",
    "print(Predictions_MN)"
   ]
  },
  {
   "cell_type": "code",
   "execution_count": 79,
   "metadata": {},
   "outputs": [
    {
     "name": "stdout",
     "output_type": "stream",
     "text": [
      "[1 0 0 ... 0 0 0]\n"
     ]
    }
   ],
   "source": [
    "Predictions_MN_var=MN_Model.predict(x_scaled_test_var)\n",
    "print(Predictions_MN_var)"
   ]
  },
  {
   "cell_type": "code",
   "execution_count": 80,
   "metadata": {},
   "outputs": [
    {
     "name": "stdout",
     "output_type": "stream",
     "text": [
      "[[ 97 800]\n",
      " [124 780]]\n"
     ]
    }
   ],
   "source": [
    "CM_MN = confusion_matrix(y_test, Predictions_MN)\n",
    "print(CM_MN)"
   ]
  },
  {
   "cell_type": "code",
   "execution_count": 81,
   "metadata": {},
   "outputs": [
    {
     "name": "stdout",
     "output_type": "stream",
     "text": [
      "[[723 172]\n",
      " [824  82]]\n"
     ]
    }
   ],
   "source": [
    "CM_MN_var = confusion_matrix(y_test_var, Predictions_MN_var)\n",
    "print(CM_MN_var)"
   ]
  },
  {
   "cell_type": "code",
   "execution_count": 82,
   "metadata": {},
   "outputs": [
    {
     "data": {
      "text/plain": [
       "<Axes: >"
      ]
     },
     "execution_count": 82,
     "metadata": {},
     "output_type": "execute_result"
    },
    {
     "data": {
      "image/png": "[encoded data removed]",
      "text/plain": [
       "<Figure size 640x480 with 2 Axes>"
      ]
     },
     "metadata": {},
     "output_type": "display_data"
    }
   ],
   "source": [
    "sns.heatmap(CM_MN, annot=True,fmt='g' , cmap='Blues')"
   ]
  },
  {
   "cell_type": "code",
   "execution_count": 83,
   "metadata": {},
   "outputs": [
    {
     "data": {
      "text/plain": [
       "<Axes: >"
      ]
     },
     "execution_count": 83,
     "metadata": {},
     "output_type": "execute_result"
    },
    {
     "data": {
      "image/png": "[encoded data removed]",
      "text/plain": [
       "<Figure size 640x480 with 2 Axes>"
      ]
     },
     "metadata": {},
     "output_type": "display_data"
    }
   ],
   "source": [
    "sns.heatmap(CM_MN_var, annot=True,fmt='g' , cmap='Blues')"
   ]
  },
  {
   "cell_type": "code",
   "execution_count": 84,
   "metadata": {},
   "outputs": [
    {
     "name": "stdout",
     "output_type": "stream",
     "text": [
      "Accuracy: 0.4869516935036091\n"
     ]
    }
   ],
   "source": [
    "accuracy = accuracy_score(y_test, Predictions_MN)\n",
    "print(\"Accuracy:\", accuracy)"
   ]
  },
  {
   "cell_type": "code",
   "execution_count": 85,
   "metadata": {},
   "outputs": [
    {
     "name": "stdout",
     "output_type": "stream",
     "text": [
      "Accuracy: 0.4469739033870072\n"
     ]
    }
   ],
   "source": [
    "accuracy_var = accuracy_score(y_test_var, Predictions_MN_var)\n",
    "print(\"Accuracy:\", accuracy_var)"
   ]
  }
 ],
 "metadata": {
  "kernelspec": {
   "display_name": "myenv",
   "language": "python",
   "name": "python3"
  },
  "language_info": {
   "codemirror_mode": {
    "name": "ipython",
    "version": 3
   },
   "file_extension": ".py",
   "mimetype": "text/x-python",
   "name": "python",
   "nbconvert_exporter": "python",
   "pygments_lexer": "ipython3",
   "version": "3.10.11"
  }
 },
 "nbformat": 4,
 "nbformat_minor": 2
}
